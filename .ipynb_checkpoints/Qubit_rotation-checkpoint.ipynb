{
 "cells": [
  {
   "cell_type": "code",
   "execution_count": 4,
   "metadata": {},
   "outputs": [],
   "source": [
    "from cirq import GridQubit, Circuit, rx, Simulator\n",
    "from math import pi\n",
    "import numpy as np"
   ]
  },
  {
   "cell_type": "code",
   "execution_count": 12,
   "metadata": {},
   "outputs": [],
   "source": [
    "def qubit_rotation(delta: float):\n",
    "    \"\"\" Create a circuit that is a series of small cirq.Rx rotations and \n",
    "    plot the probability of measuring the state in the |0⟩ state. \n",
    "    \n",
    "    Args:\n",
    "        delta: Rotation in radians.\"\"\"\n",
    "    \n",
    "    sim = Simulator()\n",
    "    \n",
    "    # Make the circuit, the qubit and the X-rotate gate.\n",
    "    circuit = Circuit()\n",
    "    q = GridQubit(0, 0)\n",
    "    Rx = rx(delta)\n",
    "    \n",
    "    # If stdin is empty, another rotation will be performed.\n",
    "    stdin = \"\"\n",
    "    \n",
    "    while stdin == \"\":\n",
    "        \n",
    "        # Add the X-rotate gate to the circuit.\n",
    "        circuit.append(Rx(q))\n",
    "        \n",
    "        # We get the probability of mesauring |0>.\n",
    "        prob = sim.simulate(circuit).density_matrix_of()[0][0].real\n",
    "        if prob < 0:\n",
    "            prob = 0\n",
    "        elif prob > 1:\n",
    "            prob = 1\n",
    "            \n",
    "        print(\"Probability of measuring the state |0>: \", round(prob, 4))\n",
    "        stdin = input(\"To rotate again, press enter: \")\n",
    "        print(\"\")"
   ]
  },
  {
   "cell_type": "code",
   "execution_count": 16,
   "metadata": {
    "scrolled": false
   },
   "outputs": [
    {
     "name": "stdout",
     "output_type": "stream",
     "text": [
      "Indicate the rotation in degrees: 0\n",
      "Probability of measuring the state |0>:  1.0\n",
      "To rotate again, press enter: \n",
      "\n",
      "Probability of measuring the state |0>:  1.0\n",
      "To rotate again, press enter: a\n",
      "\n"
     ]
    }
   ],
   "source": [
    "delta = float(input(\"Indicate the rotation in degrees: \"))\n",
    "delta = delta*pi/180\n",
    "\n",
    "qubit_rotation(delta)"
   ]
  },
  {
   "cell_type": "code",
   "execution_count": null,
   "metadata": {},
   "outputs": [],
   "source": []
  }
 ],
 "metadata": {
  "kernelspec": {
   "display_name": "Python 3",
   "language": "python",
   "name": "python3"
  },
  "language_info": {
   "codemirror_mode": {
    "name": "ipython",
    "version": 3
   },
   "file_extension": ".py",
   "mimetype": "text/x-python",
   "name": "python",
   "nbconvert_exporter": "python",
   "pygments_lexer": "ipython3",
   "version": "3.7.3"
  }
 },
 "nbformat": 4,
 "nbformat_minor": 4
}
