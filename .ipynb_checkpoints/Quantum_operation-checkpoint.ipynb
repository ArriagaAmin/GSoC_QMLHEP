{
 "cells": [
  {
   "cell_type": "code",
   "execution_count": 30,
   "metadata": {},
   "outputs": [],
   "source": [
    "from cirq import GridQubit, Circuit, H, CNOT, SWAP, rx, InsertStrategy"
   ]
  },
  {
   "cell_type": "code",
   "execution_count": 31,
   "metadata": {},
   "outputs": [],
   "source": [
    "def make_circuit(length: int = 5):\n",
    "    \"\"\" Implementation of a quantum operation on <n> qubits with Cirq composed of:\n",
    "    * Hadamard operation on every qubit\n",
    "    * CNOT operation on (0, 1), (1,2), ..., (n-2, n-1)\n",
    "    * SWAP (0, n-1)\n",
    "    * Rotate X with pi/2\n",
    "\n",
    "    Args: \n",
    "        length: Number of qubits.\n",
    "    \n",
    "    Returns:\n",
    "        Quantum circuit.\"\"\"\n",
    "    \n",
    "    qubits = [GridQubit(i, 0) for i in range(length)]\n",
    "\n",
    "    circuit = Circuit()\n",
    "    \n",
    "    # Make de X-rotate gate for pi/2.\n",
    "    Rx = rx(pi/2)\n",
    "    \n",
    "    # Add the gates.\n",
    "    circuit.append(H(q) for q in qubits)\n",
    "    \n",
    "    # Because the qubits are in the |+> state, the next two gates\n",
    "    # do not affect the amplitudes of the qubits.\n",
    "    circuit.append(CNOT(qubits[i], qubits[i+1]) for i in range(length-1))\n",
    "    circuit.append(SWAP(qubits[0], qubits[length-1]))\n",
    "    \n",
    "    circuit.append((Rx(q) for q in qubits), strategy=InsertStrategy.NEW_THEN_INLINE)\n",
    "    \n",
    "    return circuit"
   ]
  },
  {
   "cell_type": "code",
   "execution_count": 35,
   "metadata": {},
   "outputs": [
    {
     "name": "stdout",
     "output_type": "stream",
     "text": [
      "\u001b[0;1mWe print the circuit:\n",
      "\u001b[0;0m\n",
      "(0, 0): ───H───@───────────────×───Rx(0.5π)───\n",
      "               │               │\n",
      "(1, 0): ───H───X───@───────────┼───Rx(0.5π)───\n",
      "                   │           │\n",
      "(2, 0): ───H───────X───@───────┼───Rx(0.5π)───\n",
      "                       │       │\n",
      "(3, 0): ───H───────────X───@───┼───Rx(0.5π)───\n",
      "                           │   │\n",
      "(4, 0): ───H───────────────X───×───Rx(0.5π)───\n"
     ]
    }
   ],
   "source": [
    "print(\"\\033[0;1mWe print the circuit:\\n\\033[0;0m\")\n",
    "print(make_circuit())"
   ]
  },
  {
   "cell_type": "code",
   "execution_count": null,
   "metadata": {},
   "outputs": [],
   "source": []
  }
 ],
 "metadata": {
  "kernelspec": {
   "display_name": "Python 3",
   "language": "python",
   "name": "python3"
  },
  "language_info": {
   "codemirror_mode": {
    "name": "ipython",
    "version": 3
   },
   "file_extension": ".py",
   "mimetype": "text/x-python",
   "name": "python",
   "nbconvert_exporter": "python",
   "pygments_lexer": "ipython3",
   "version": "3.7.3"
  }
 },
 "nbformat": 4,
 "nbformat_minor": 4
}
