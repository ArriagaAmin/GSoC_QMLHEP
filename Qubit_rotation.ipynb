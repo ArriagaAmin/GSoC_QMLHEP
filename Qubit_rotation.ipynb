{
 "cells": [
  {
   "cell_type": "code",
   "execution_count": 4,
   "metadata": {},
   "outputs": [],
   "source": [
    "from cirq import GridQubit, Circuit, rx, Simulator\n",
    "from math import pi\n",
    "import numpy as np"
   ]
  },
  {
   "cell_type": "code",
   "execution_count": 5,
   "metadata": {},
   "outputs": [],
   "source": [
    "def qubit_rotation(delta: float):\n",
    "    \"\"\" Create a circuit that is a series of small cirq.Rx rotations and \n",
    "    plot the probability of measuring the state in the |0⟩ state. \n",
    "    \n",
    "    Args:\n",
    "        delta: Rotation in degrees.\"\"\"\n",
    "    \n",
    "    while delta >= 360:\n",
    "        delta -= 360\n",
    "    while delta < 0:\n",
    "        delta += 360 \n",
    "    d = delta\n",
    "    \n",
    "    sim = Simulator()\n",
    "    \n",
    "    # Make the circuit, the qubit and the X-rotate gate.\n",
    "    rad = delta*pi/180\n",
    "    circuit = Circuit()\n",
    "    q = GridQubit(0, 0)\n",
    "    Rx = rx(rad)\n",
    "    \n",
    "    # If stdin is empty, another rotation will be performed.\n",
    "    stdin = \"\"\n",
    "    \n",
    "    while stdin == \"\":\n",
    "        \n",
    "        # Add the X-rotate gate to the circuit.\n",
    "        circuit.append(Rx(q))\n",
    "        \n",
    "        # We get the probability of mesauring |0>.\n",
    "        prob = sim.simulate(circuit).density_matrix_of()[0][0].real\n",
    "        if prob < 0:\n",
    "            prob = 0\n",
    "        elif prob > 1:\n",
    "            prob = 1\n",
    "          \n",
    "        print(\"\\n(%s degrees) Probability of measuring the state |0>: %f\" % (str(round(d,4)), prob))\n",
    "        stdin = input(\"To rotate again, press enter: \")\n",
    "        \n",
    "        d += delta\n",
    "        while d >= 360:\n",
    "            d -= 360"
   ]
  },
  {
   "cell_type": "code",
   "execution_count": 6,
   "metadata": {},
   "outputs": [
    {
     "name": "stdout",
     "output_type": "stream",
     "text": [
      "Indicate the rotation in degrees: 0.1\n",
      "\n",
      "(0.1 degrees) Probability of measuring the state |0>: 0.999999\n",
      "To rotate again, press enter: \n",
      "\n",
      "(0.2 degrees) Probability of measuring the state |0>: 0.999997\n",
      "To rotate again, press enter: \n",
      "\n",
      "(0.3 degrees) Probability of measuring the state |0>: 0.999993\n",
      "To rotate again, press enter: \n",
      "\n",
      "(0.4 degrees) Probability of measuring the state |0>: 0.999988\n",
      "To rotate again, press enter: end\n"
     ]
    }
   ],
   "source": [
    "delta = float(input(\"Indicate the rotation in degrees: \"))\n",
    "\n",
    "qubit_rotation(delta)"
   ]
  },
  {
   "cell_type": "code",
   "execution_count": null,
   "metadata": {},
   "outputs": [],
   "source": []
  }
 ],
 "metadata": {
  "kernelspec": {
   "display_name": "Python 3",
   "language": "python",
   "name": "python3"
  }
 },
 "nbformat": 4,
 "nbformat_minor": 4
}
